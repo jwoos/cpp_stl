{
 "cells": [
  {
   "cell_type": "markdown",
   "metadata": {},
   "source": [
    "# Crypto Pals Challenge\n",
    "## Set 1"
   ]
  },
  {
   "cell_type": "markdown",
   "metadata": {},
   "source": [
    "### Challenge 1 - Convert hex to base64\n",
    "\n",
    "The string:\n",
    "\n",
    "```\n",
    "49276d206b696c6c696e6720796f757220627261696e206c696b65206120706f69736f6e6f7573206d757368726f6f6d\n",
    "```\n",
    "\n",
    "Should produce:\n",
    "\n",
    "```\n",
    "SSdtIGtpbGxpbmcgeW91ciBicmFpbiBsaWtlIGEgcG9pc29ub3VzIG11c2hyb29t\n",
    "```\n",
    "\n",
    "#### Notes\n",
    "`bytearray` is Python's way of working with mutables bytes. `byte` is immutable and makes up `byatearray`."
   ]
  },
  {
   "cell_type": "code",
   "execution_count": 1,
   "metadata": {},
   "outputs": [
    {
     "name": "stdout",
     "output_type": "stream",
     "text": [
      "b'SSdtIGtpbGxpbmcgeW91ciBicmFpbiBsaWtlIGEgcG9pc29ub3VzIG11c2hyb29t'\n"
     ]
    }
   ],
   "source": [
    "import base64\n",
    "\n",
    "hex_string = '49276d206b696c6c696e6720796f757220627261696e206c696b65206120706f69736f6e6f7573206d757368726f6f6d'\n",
    "b_array = bytearray.fromhex(hex_string)\n",
    "\n",
    "print(base64.b64encode(b_array))"
   ]
  },
  {
   "cell_type": "markdown",
   "metadata": {},
   "source": [
    "### Challenge 2 - Fixed XOR\n",
    "Write a function that takes two equal-length buffers and produces their XOR combination.\n",
    "\n",
    "If your function works properly, then when you feed it the string:\n",
    "```\n",
    "1c0111001f010100061a024b53535009181c\n",
    "```\n",
    "\n",
    "... after hex decoding, and when XOR'd against:\n",
    "\n",
    "```\n",
    "686974207468652062756c6c277320657965\n",
    "```\n",
    "\n",
    "... should produce:\n",
    "\n",
    "```\n",
    "746865206b696420646f6e277420706c6179\n",
    "```\n",
    "\n",
    "#### Notes\n",
    "**DO NOT** XOR the encoded strings. Work with the `bytearray` representation of the strings and iterate through them to get the proper value."
   ]
  },
  {
   "cell_type": "code",
   "execution_count": 2,
   "metadata": {
    "scrolled": true
   },
   "outputs": [
    {
     "name": "stdout",
     "output_type": "stream",
     "text": [
      "746865206b696420646f6e277420706c6179\n"
     ]
    }
   ],
   "source": [
    "from utils import xor_fixed_length\n",
    "\n",
    "a_string = '1c0111001f010100061a024b53535009181c'\n",
    "b_string = '686974207468652062756c6c277320657965'\n",
    "\n",
    "print(xor_fixed_length(a_string, b_string).hex())"
   ]
  },
  {
   "cell_type": "markdown",
   "metadata": {},
   "source": [
    "### Challenge 3 - Single-byte XOR cipher\n",
    "The hex encoded string:\n",
    "```\n",
    "1b37373331363f78151b7f2b783431333d78397828372d363c78373e783a393b3736\n",
    "```\n",
    "\n",
    "... has been XOR'd against a single character. Find the key, decrypt the message.\n",
    "\n",
    "You can do this by hand. But don't: write code to do it for you.\n",
    "\n",
    "How? Devise some method for \"scoring\" a piece of English plaintext. Character frequency is a good metric. Evaluate each output and choose the one with the best score.\n",
    "\n",
    "#### Notes\n",
    "There are 256 values possible for an ascii string. We want to check all of them and if we find proper words in between, abort."
   ]
  },
  {
   "cell_type": "code",
   "execution_count": 2,
   "metadata": {},
   "outputs": [
    {
     "name": "stdout",
     "output_type": "stream",
     "text": [
      "Cooking MC's like a pound of bacon\n"
     ]
    }
   ],
   "source": [
    "import utils\n",
    "from collections import Counter\n",
    "\n",
    "a_string = '1b37373331363f78151b7f2b783431333d78397828372d363c78373e783a393b3736'\n",
    "a_byte = utils.hex_string_to_bytes(a_string)\n",
    "\n",
    "def score(x):\n",
    "    c = Counter(list(x))\n",
    "\n",
    "for k in range(256):\n",
    "    possible.append(''.join(chr(x ^ k) for x in a_bytes))\n",
    "\n",
    "print(max(possible, key=lambda x: x.count(' ')))"
   ]
  }
 ],
 "metadata": {
  "kernelspec": {
   "display_name": "Python 3",
   "language": "python",
   "name": "python3"
  },
  "language_info": {
   "codemirror_mode": {
    "name": "ipython",
    "version": 3
   },
   "file_extension": ".py",
   "mimetype": "text/x-python",
   "name": "python",
   "nbconvert_exporter": "python",
   "pygments_lexer": "ipython3",
   "version": "3.6.0"
  }
 },
 "nbformat": 4,
 "nbformat_minor": 2
}
